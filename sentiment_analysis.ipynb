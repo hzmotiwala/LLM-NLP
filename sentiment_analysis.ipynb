{
 "cells": [
  {
   "cell_type": "code",
   "execution_count": null,
   "id": "b8ef702a",
   "metadata": {},
   "outputs": [],
   "source": [
    "import transformers\n",
    "from transformers import pipeline\n",
    "import tensorflow\n",
    "import keras\n",
    "import pandas as pd"
   ]
  },
  {
   "cell_type": "code",
   "execution_count": null,
   "id": "a9471205",
   "metadata": {
    "scrolled": false
   },
   "outputs": [],
   "source": [
    "classifier = pipeline(\"sentiment-analysis\")"
   ]
  },
  {
   "cell_type": "code",
   "execution_count": null,
   "id": "9fe9dac5",
   "metadata": {},
   "outputs": [],
   "source": [
    "res = classifier(\"I've been waiting for a HuggingFace course my whole life.\")\n",
    "sentiment, score = res[0].values()\n",
    "res"
   ]
  },
  {
   "cell_type": "code",
   "execution_count": null,
   "id": "9abaf90c",
   "metadata": {},
   "outputs": [],
   "source": [
    "print(\"sentiment: \", sentiment)\n",
    "print(\"score: \", score)"
   ]
  },
  {
   "cell_type": "code",
   "execution_count": null,
   "id": "3000a2f6",
   "metadata": {},
   "outputs": [],
   "source": [
    "df_res = pd.DataFrame.from_dict(res)\n",
    "df_res"
   ]
  },
  {
   "cell_type": "code",
   "execution_count": null,
   "id": "7db86720",
   "metadata": {},
   "outputs": [],
   "source": [
    "title_list = ['this is title one I love it', 'this is title two not so good', 'this one is more neutral']\n",
    "#res_dict = {}\n",
    "#titles = []\n",
    "#df = pd.DataFrame()\n",
    "l = []\n",
    "\n",
    "for i in title_list:\n",
    "    result = classifier(i)\n",
    "    res = {'title': i}\n",
    "    res.update(result[0])\n",
    "    l.append(res)\n",
    "df = pd.DataFrame.from_dict(l)\n",
    "df"
   ]
  },
  {
   "cell_type": "code",
   "execution_count": null,
   "id": "1b4a09fb",
   "metadata": {},
   "outputs": [],
   "source": []
  },
  {
   "cell_type": "code",
   "execution_count": null,
   "id": "b81f53f2",
   "metadata": {},
   "outputs": [],
   "source": []
  },
  {
   "cell_type": "code",
   "execution_count": null,
   "id": "298e28f5",
   "metadata": {},
   "outputs": [],
   "source": [
    "generator = pipeline(\"text-generation\", model=\"distilgpt2\")"
   ]
  },
  {
   "cell_type": "code",
   "execution_count": null,
   "id": "3957d943",
   "metadata": {},
   "outputs": [],
   "source": [
    "res = generator(\n",
    "    \"in this course we will teach you how to\",\n",
    "    max_length=30,\n",
    "    num_return_sequences=3,\n",
    "    )\n",
    "print(res)"
   ]
  },
  {
   "cell_type": "code",
   "execution_count": null,
   "id": "b51431e4",
   "metadata": {},
   "outputs": [],
   "source": []
  },
  {
   "cell_type": "code",
   "execution_count": null,
   "id": "594c5ec6",
   "metadata": {},
   "outputs": [],
   "source": []
  },
  {
   "cell_type": "code",
   "execution_count": null,
   "id": "06d62be3",
   "metadata": {},
   "outputs": [],
   "source": []
  },
  {
   "cell_type": "code",
   "execution_count": null,
   "id": "4d1581d6",
   "metadata": {},
   "outputs": [],
   "source": []
  },
  {
   "cell_type": "code",
   "execution_count": null,
   "id": "8118370a",
   "metadata": {},
   "outputs": [],
   "source": [
    "classifier = pipeline(\"zero-shot-classification\")\n",
    "\n",
    "res = classifier(\n",
    "    \"This is a course about Python list comprehension\",\n",
    "    candidate_labels=[\"education\", \"politics\", \"business\"],\n",
    ")\n",
    "res"
   ]
  },
  {
   "cell_type": "code",
   "execution_count": null,
   "id": "b5417eae",
   "metadata": {},
   "outputs": [],
   "source": []
  },
  {
   "cell_type": "code",
   "execution_count": null,
   "id": "75579ccc",
   "metadata": {},
   "outputs": [],
   "source": []
  },
  {
   "cell_type": "code",
   "execution_count": null,
   "id": "8205a4eb",
   "metadata": {},
   "outputs": [],
   "source": [
    "from sentence_transformers import SentenceTransformer"
   ]
  },
  {
   "cell_type": "code",
   "execution_count": null,
   "id": "fffb8c6c",
   "metadata": {},
   "outputs": [],
   "source": [
    "model = SentenceTransformer('paraphrase-MiniLM-L6-v2')"
   ]
  },
  {
   "cell_type": "code",
   "execution_count": null,
   "id": "69df12b1",
   "metadata": {},
   "outputs": [],
   "source": [
    "#Sentences we want to encode. Example:\n",
    "sentence = ['This framework generates embeddings for each input sentence']\n",
    "\n",
    "\n",
    "#Sentences are encoded by calling model.encode()\n",
    "embedding = model.encode(sentence)\n",
    "embedding"
   ]
  },
  {
   "cell_type": "code",
   "execution_count": null,
   "id": "6eba82c9",
   "metadata": {},
   "outputs": [],
   "source": []
  },
  {
   "cell_type": "code",
   "execution_count": null,
   "id": "0dbb14cc",
   "metadata": {},
   "outputs": [],
   "source": []
  },
  {
   "cell_type": "code",
   "execution_count": null,
   "id": "3aa0e511",
   "metadata": {},
   "outputs": [],
   "source": []
  },
  {
   "cell_type": "code",
   "execution_count": null,
   "id": "bd818dea",
   "metadata": {},
   "outputs": [],
   "source": []
  },
  {
   "cell_type": "code",
   "execution_count": null,
   "id": "30684b0c",
   "metadata": {},
   "outputs": [],
   "source": []
  },
  {
   "cell_type": "code",
   "execution_count": null,
   "id": "b6a3da43",
   "metadata": {},
   "outputs": [],
   "source": [
    "import pandas as pd\n",
    "\n",
    "# Create a dictionary with the column names and data types\n",
    "data = {\n",
    "    'player_id': [1, 2, 3],\n",
    "    'player_name': ['LeBron James', 'Stephen Curry', 'Kevin Durant'],\n",
    "    'team_name': ['Los Angeles Lakers', 'Golden State Warriors', 'Brooklyn Nets'],\n",
    "    'jersey_number': [23, 30, 7],\n",
    "    'position': ['Forward', 'Guard', 'Forward'],\n",
    "    'height': [\"6'9\", \"6'3\", \"6'10\"],\n",
    "    'weight': [250, 185, 240],\n",
    "    'age': [36, 33, 33],\n",
    "    'nationality': ['American', 'American', 'American']\n",
    "}\n",
    "\n",
    "# Create the DataFrame using the dictionary\n",
    "df = pd.DataFrame(data)\n",
    "\n",
    "# Print the DataFrame\n",
    "print(df)"
   ]
  },
  {
   "cell_type": "code",
   "execution_count": null,
   "id": "63f1f302",
   "metadata": {},
   "outputs": [],
   "source": [
    "import matplotlib.pyplot as plt\n",
    "\n",
    "# Plotting height vs weight\n",
    "plt.scatter(df['height'], df['weight'])\n",
    "plt.xlabel('Height')\n",
    "plt.ylabel('Weight')\n",
    "plt.title('Height vs Weight')\n",
    "\n",
    "# Display the plot\n",
    "plt.show()\n"
   ]
  },
  {
   "cell_type": "code",
   "execution_count": null,
   "id": "44f03c2a",
   "metadata": {},
   "outputs": [],
   "source": [
    "import matplotlib.pyplot as plt\n",
    "\n",
    "# Order the DataFrame by height in descending order\n",
    "df_ordered = df.sort_values('height', ascending=False)\n",
    "\n",
    "# Plotting height vs weight with ordered height\n",
    "plt.scatter(df_ordered['weight'], df_ordered['height'])\n",
    "plt.xlabel('Weight')\n",
    "plt.ylabel('Height')\n",
    "plt.title('Height vs Weight (Ordered by Height)')\n",
    "\n",
    "# Display the plot\n",
    "plt.show()\n"
   ]
  },
  {
   "cell_type": "code",
   "execution_count": null,
   "id": "f147c891",
   "metadata": {},
   "outputs": [],
   "source": [
    "import matplotlib.pyplot as plt\n",
    "\n",
    "# Convert height from feet and inches to inches\n",
    "df['height_inches'] = df['height'].apply(lambda x: int(x.split(\"'\")[0]) * 12 + int(x.split(\"'\")[1].replace(\"\\\"\", \"\")))\n",
    "\n",
    "# Order the DataFrame by height in descending order\n",
    "df_ordered = df.sort_values('height_inches', ascending=False)\n",
    "\n",
    "# Plotting height (in inches) vs weight with ordered height\n",
    "plt.scatter(df_ordered['weight'], df_ordered['height_inches'])\n",
    "plt.xlabel('Weight')\n",
    "plt.ylabel('Height (inches)')\n",
    "plt.title('Height (inches) vs Weight')\n",
    "\n",
    "# Display the plot\n",
    "plt.show()\n"
   ]
  },
  {
   "cell_type": "code",
   "execution_count": null,
   "id": "d2a29fec",
   "metadata": {},
   "outputs": [],
   "source": [
    "import matplotlib.pyplot as plt\n",
    "\n",
    "# Convert height from feet and inches to inches\n",
    "df['height_inches'] = df['height'].apply(lambda x: int(x.split(\"'\")[0]) * 12 + int(x.split(\"'\")[1].replace(\"\\\"\", \"\")))\n",
    "\n",
    "# Plotting height vs weight as a bar chart\n",
    "plt.bar(df.index, df['height_inches'], align='center', alpha=0.5)\n",
    "plt.xticks(df.index, df['weight'])\n",
    "plt.xlabel('Weight')\n",
    "plt.ylabel('Height (inches)')\n",
    "plt.title('Height vs Weight')\n",
    "\n",
    "# Display the plot\n",
    "plt.show()\n"
   ]
  },
  {
   "cell_type": "code",
   "execution_count": null,
   "id": "127f5b06",
   "metadata": {},
   "outputs": [],
   "source": [
    "import matplotlib.pyplot as plt\n",
    "\n",
    "# Convert height from feet and inches to inches\n",
    "df['height_inches'] = df['height'].apply(lambda x: int(x.split(\"'\")[0]) * 12 + int(x.split(\"'\")[1].replace(\"\\\"\", \"\")))\n",
    "\n",
    "# Sort the DataFrame by height in ascending order\n",
    "df_sorted = df.sort_values('height_inches')\n",
    "\n",
    "# Plotting height vs weight with both sorted\n",
    "plt.bar(df_sorted['height_inches'], df_sorted['weight'])\n",
    "plt.xlabel('Height (inches)')\n",
    "plt.ylabel('Weight')\n",
    "plt.title('Height vs Weight')\n",
    "\n",
    "# Display the plot\n",
    "plt.show()\n"
   ]
  },
  {
   "cell_type": "code",
   "execution_count": null,
   "id": "bbaeede6",
   "metadata": {},
   "outputs": [],
   "source": [
    "import matplotlib.pyplot as plt\n",
    "\n",
    "# Convert height from feet and inches to inches\n",
    "df['height_inches'] = df['height'].apply(lambda x: int(x.split(\"'\")[0]) * 12 + int(x.split(\"'\")[1].replace(\"\\\"\", \"\")))\n",
    "\n",
    "# Sort the DataFrame by height in descending order\n",
    "df_sorted = df.sort_values('height_inches', ascending=False)\n",
    "\n",
    "# Create a bar chart for height vs weight\n",
    "plt.bar(df_sorted['weight'], df_sorted['height_inches'])\n",
    "plt.xlabel('Weight')\n",
    "plt.ylabel('Height (inches)')\n",
    "plt.title('Height vs Weight (Sorted by Height)')\n",
    "\n",
    "# Display the plot\n",
    "plt.show()\n"
   ]
  },
  {
   "cell_type": "code",
   "execution_count": null,
   "id": "519cc7c3",
   "metadata": {},
   "outputs": [],
   "source": []
  }
 ],
 "metadata": {
  "kernelspec": {
   "display_name": "Python 3 (ipykernel)",
   "language": "python",
   "name": "python3"
  },
  "language_info": {
   "codemirror_mode": {
    "name": "ipython",
    "version": 3
   },
   "file_extension": ".py",
   "mimetype": "text/x-python",
   "name": "python",
   "nbconvert_exporter": "python",
   "pygments_lexer": "ipython3",
   "version": "3.10.8"
  }
 },
 "nbformat": 4,
 "nbformat_minor": 5
}
